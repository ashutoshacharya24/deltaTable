{
 "cells": [
  {
   "cell_type": "markdown",
   "metadata": {
    "application/vnd.databricks.v1+cell": {
     "cellMetadata": {},
     "inputWidgets": {},
     "nuid": "899a155e-eb5e-42b0-a87d-c7ea98367734",
     "showTitle": false,
     "tableResultSettingsMap": {},
     "title": ""
    }
   },
   "source": [
    "# **DELTA LOG**"
   ]
  },
  {
   "cell_type": "code",
   "execution_count": 0,
   "metadata": {
    "application/vnd.databricks.v1+cell": {
     "cellMetadata": {
      "byteLimit": 2048000,
      "rowLimit": 10000
     },
     "inputWidgets": {},
     "nuid": "df270e9c-36df-42a4-aadc-6090723106ff",
     "showTitle": false,
     "tableResultSettingsMap": {},
     "title": ""
    }
   },
   "outputs": [
    {
     "output_type": "display_data",
     "data": {
      "text/html": [
       "<style scoped>\n",
       "  .table-result-container {\n",
       "    max-height: 300px;\n",
       "    overflow: auto;\n",
       "  }\n",
       "  table, th, td {\n",
       "    border: 1px solid black;\n",
       "    border-collapse: collapse;\n",
       "  }\n",
       "  th, td {\n",
       "    padding: 5px;\n",
       "  }\n",
       "  th {\n",
       "    text-align: left;\n",
       "  }\n",
       "</style><div class='table-result-container'><table class='table-result'><thead style='background-color: white'><tr><th>id</th><th>salary</th><th>name</th></tr></thead><tbody><tr><td>1</td><td>100</td><td>aa</td></tr><tr><td>2</td><td>200</td><td>bb</td></tr><tr><td>3</td><td>300</td><td>cc</td></tr><tr><td>4</td><td>400</td><td>dd</td></tr></tbody></table></div>"
      ]
     },
     "metadata": {
      "application/vnd.databricks.v1+output": {
       "addedWidgets": {},
       "aggData": [],
       "aggError": "",
       "aggOverflow": false,
       "aggSchema": [],
       "aggSeriesLimitReached": false,
       "aggType": "",
       "arguments": {},
       "columnCustomDisplayInfos": {},
       "data": [
        [
         1,
         100,
         "aa"
        ],
        [
         2,
         200,
         "bb"
        ],
        [
         3,
         300,
         "cc"
        ],
        [
         4,
         400,
         "dd"
        ]
       ],
       "datasetInfos": [],
       "dbfsResultPath": null,
       "isJsonSchema": true,
       "metadata": {},
       "overflow": false,
       "plotOptions": {
        "customPlotOptions": {},
        "displayType": "table",
        "pivotAggregation": null,
        "pivotColumns": null,
        "xColumns": null,
        "yColumns": null
       },
       "removedWidgets": [],
       "schema": [
        {
         "metadata": "{}",
         "name": "id",
         "type": "\"long\""
        },
        {
         "metadata": "{}",
         "name": "salary",
         "type": "\"long\""
        },
        {
         "metadata": "{}",
         "name": "name",
         "type": "\"string\""
        }
       ],
       "type": "table"
      }
     },
     "output_type": "display_data"
    }
   ],
   "source": [
    "data = [(1,100,'aa'),(2,200,'bb'),(3,300,'cc'),(4,400,'dd')]\n",
    "\n",
    "df = spark.createDataFrame(data, ['id','salary','name'])\n",
    "\n",
    "display(df)"
   ]
  },
  {
   "cell_type": "code",
   "execution_count": 0,
   "metadata": {
    "application/vnd.databricks.v1+cell": {
     "cellMetadata": {
      "byteLimit": 2048000,
      "rowLimit": 10000
     },
     "inputWidgets": {},
     "nuid": "3b4196e7-ca04-454f-ae02-8b2599a4dcf7",
     "showTitle": false,
     "tableResultSettingsMap": {},
     "title": ""
    }
   },
   "outputs": [],
   "source": [
    "df.write.format(\"delta\")\\\n",
    "        .mode(\"append\")\\\n",
    "        .save(\"/Volumes/deltalakeansh/default/deltavol/demosink/\")"
   ]
  },
  {
   "cell_type": "code",
   "execution_count": 0,
   "metadata": {
    "application/vnd.databricks.v1+cell": {
     "cellMetadata": {
      "byteLimit": 2048000,
      "rowLimit": 10000
     },
     "inputWidgets": {},
     "nuid": "a1ac5650-3519-4868-9295-f6252a6d3552",
     "showTitle": false,
     "tableResultSettingsMap": {},
     "title": ""
    }
   },
   "outputs": [
    {
     "output_type": "display_data",
     "data": {
      "text/html": [
       "<style scoped>\n",
       "  .table-result-container {\n",
       "    max-height: 300px;\n",
       "    overflow: auto;\n",
       "  }\n",
       "  table, th, td {\n",
       "    border: 1px solid black;\n",
       "    border-collapse: collapse;\n",
       "  }\n",
       "  th, td {\n",
       "    padding: 5px;\n",
       "  }\n",
       "  th {\n",
       "    text-align: left;\n",
       "  }\n",
       "</style><div class='table-result-container'><table class='table-result'><thead style='background-color: white'><tr><th>add</th><th>commitInfo</th></tr></thead><tbody><tr><td>null</td><td>List(0705-000106-t0srhzg8-v2n, Databricks-Runtime/16.4.x-aarch64-photon-scala2.12, true, WriteSerializable, WRITE, List(1, 1066, 4), List(Append, [], false), 0, List(true, false), 1751676225144, 823ff9e1-fbdf-4325-a47a-fbf7c79f48e7, 4512597665796397, anshlambaaz@gmail.com)</td></tr><tr><td>List(true, 1751676225000, part-00000-5b3ff767-281f-4e85-a249-065a808de0ce.c000.snappy.parquet, 1066, {\"numRecords\":4,\"minValues\":{\"id\":1,\"salary\":100,\"name\":\"aa\"},\"maxValues\":{\"id\":4,\"salary\":400,\"name\":\"dd\"},\"nullCount\":{\"id\":0,\"salary\":0,\"name\":0},\"tightBounds\":true}, List(1751676225000000, 1751676225000000, 1751676225000000, 268435456))</td><td>null</td></tr></tbody></table></div>"
      ]
     },
     "metadata": {
      "application/vnd.databricks.v1+output": {
       "addedWidgets": {},
       "aggData": [],
       "aggError": "",
       "aggOverflow": false,
       "aggSchema": [],
       "aggSeriesLimitReached": false,
       "aggType": "",
       "arguments": {},
       "columnCustomDisplayInfos": {},
       "data": [
        [
         null,
         [
          "0705-000106-t0srhzg8-v2n",
          "Databricks-Runtime/16.4.x-aarch64-photon-scala2.12",
          true,
          "WriteSerializable",
          "WRITE",
          [
           "1",
           "1066",
           "4"
          ],
          [
           "Append",
           "[]",
           false
          ],
          0,
          [
           "true",
           "false"
          ],
          1751676225144,
          "823ff9e1-fbdf-4325-a47a-fbf7c79f48e7",
          "4512597665796397",
          "anshlambaaz@gmail.com"
         ]
        ],
        [
         [
          true,
          1751676225000,
          "part-00000-5b3ff767-281f-4e85-a249-065a808de0ce.c000.snappy.parquet",
          1066,
          "{\"numRecords\":4,\"minValues\":{\"id\":1,\"salary\":100,\"name\":\"aa\"},\"maxValues\":{\"id\":4,\"salary\":400,\"name\":\"dd\"},\"nullCount\":{\"id\":0,\"salary\":0,\"name\":0},\"tightBounds\":true}",
          [
           "1751676225000000",
           "1751676225000000",
           "1751676225000000",
           "268435456"
          ]
         ],
         null
        ]
       ],
       "datasetInfos": [],
       "dbfsResultPath": null,
       "isJsonSchema": true,
       "metadata": {},
       "overflow": false,
       "plotOptions": {
        "customPlotOptions": {},
        "displayType": "table",
        "pivotAggregation": null,
        "pivotColumns": null,
        "xColumns": null,
        "yColumns": null
       },
       "removedWidgets": [],
       "schema": [
        {
         "metadata": "{}",
         "name": "add",
         "type": "{\"fields\":[{\"metadata\":{},\"name\":\"dataChange\",\"nullable\":true,\"type\":\"boolean\"},{\"metadata\":{},\"name\":\"modificationTime\",\"nullable\":true,\"type\":\"long\"},{\"metadata\":{},\"name\":\"path\",\"nullable\":true,\"type\":\"string\"},{\"metadata\":{},\"name\":\"size\",\"nullable\":true,\"type\":\"long\"},{\"metadata\":{},\"name\":\"stats\",\"nullable\":true,\"type\":\"string\"},{\"metadata\":{},\"name\":\"tags\",\"nullable\":true,\"type\":{\"fields\":[{\"metadata\":{},\"name\":\"INSERTION_TIME\",\"nullable\":true,\"type\":\"string\"},{\"metadata\":{},\"name\":\"MAX_INSERTION_TIME\",\"nullable\":true,\"type\":\"string\"},{\"metadata\":{},\"name\":\"MIN_INSERTION_TIME\",\"nullable\":true,\"type\":\"string\"},{\"metadata\":{},\"name\":\"OPTIMIZE_TARGET_SIZE\",\"nullable\":true,\"type\":\"string\"}],\"type\":\"struct\"}}],\"type\":\"struct\"}"
        },
        {
         "metadata": "{}",
         "name": "commitInfo",
         "type": "{\"fields\":[{\"metadata\":{},\"name\":\"clusterId\",\"nullable\":true,\"type\":\"string\"},{\"metadata\":{},\"name\":\"engineInfo\",\"nullable\":true,\"type\":\"string\"},{\"metadata\":{},\"name\":\"isBlindAppend\",\"nullable\":true,\"type\":\"boolean\"},{\"metadata\":{},\"name\":\"isolationLevel\",\"nullable\":true,\"type\":\"string\"},{\"metadata\":{},\"name\":\"operation\",\"nullable\":true,\"type\":\"string\"},{\"metadata\":{},\"name\":\"operationMetrics\",\"nullable\":true,\"type\":{\"fields\":[{\"metadata\":{},\"name\":\"numFiles\",\"nullable\":true,\"type\":\"string\"},{\"metadata\":{},\"name\":\"numOutputBytes\",\"nullable\":true,\"type\":\"string\"},{\"metadata\":{},\"name\":\"numOutputRows\",\"nullable\":true,\"type\":\"string\"}],\"type\":\"struct\"}},{\"metadata\":{},\"name\":\"operationParameters\",\"nullable\":true,\"type\":{\"fields\":[{\"metadata\":{},\"name\":\"mode\",\"nullable\":true,\"type\":\"string\"},{\"metadata\":{},\"name\":\"partitionBy\",\"nullable\":true,\"type\":\"string\"},{\"metadata\":{},\"name\":\"statsOnLoad\",\"nullable\":true,\"type\":\"boolean\"}],\"type\":\"struct\"}},{\"metadata\":{},\"name\":\"readVersion\",\"nullable\":true,\"type\":\"long\"},{\"metadata\":{},\"name\":\"tags\",\"nullable\":true,\"type\":{\"fields\":[{\"metadata\":{},\"name\":\"noRowsCopied\",\"nullable\":true,\"type\":\"string\"},{\"metadata\":{},\"name\":\"restoresDeletedRows\",\"nullable\":true,\"type\":\"string\"}],\"type\":\"struct\"}},{\"metadata\":{},\"name\":\"timestamp\",\"nullable\":true,\"type\":\"long\"},{\"metadata\":{},\"name\":\"txnId\",\"nullable\":true,\"type\":\"string\"},{\"metadata\":{},\"name\":\"userId\",\"nullable\":true,\"type\":\"string\"},{\"metadata\":{},\"name\":\"userName\",\"nullable\":true,\"type\":\"string\"}],\"type\":\"struct\"}"
        }
       ],
       "type": "table"
      }
     },
     "output_type": "display_data"
    }
   ],
   "source": [
    "df = spark.read.format(\"json\")\\\n",
    "            .load(\"/Volumes/deltalakeansh/default/deltavol/demosink/_delta_log/00000000000000000001.json\")\n",
    "display(df)"
   ]
  },
  {
   "cell_type": "code",
   "execution_count": 0,
   "metadata": {
    "application/vnd.databricks.v1+cell": {
     "cellMetadata": {},
     "inputWidgets": {},
     "nuid": "bf1d40ca-6899-490d-8d9f-6f06e725d0c3",
     "showTitle": false,
     "tableResultSettingsMap": {},
     "title": ""
    }
   },
   "outputs": [],
   "source": []
  }
 ],
 "metadata": {
  "application/vnd.databricks.v1+notebook": {
   "computePreferences": null,
   "dashboards": [],
   "environmentMetadata": {
    "base_environment": "",
    "environment_version": "2"
   },
   "inputWidgetPreferences": null,
   "language": "python",
   "notebookMetadata": {
    "pythonIndentUnit": 4
   },
   "notebookName": "2_deltalake",
   "widgets": {}
  },
  "language_info": {
   "name": "python"
  }
 },
 "nbformat": 4,
 "nbformat_minor": 0
}